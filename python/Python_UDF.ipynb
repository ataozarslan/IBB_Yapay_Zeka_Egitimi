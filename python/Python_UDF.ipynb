{
 "cells": [
  {
   "cell_type": "markdown",
   "id": "a9b1871d",
   "metadata": {},
   "source": [
    "# Python'da Oluşturulan Fonksiyonları Kullanmak\n",
    "\n",
    "Projeler üzerinde çalışırken işlerimizi kolaylaştırması için `def` yapısını kullanarak fonksiyon tanımlamaları yaparız ve bu durum bizi **çalıştığımız notebooklar üzerinde aynı kodları defalarca yazmaktan kurtarır**.\n",
    "\n",
    "Ancak özellikle ilerledikçe önceden oluşturmuş olduğunuz fonksiyonları tekrar tekrar kullanma ihtiyacı hissedeceksiniz. Tam da bu durumda, tekrardan aynı fonksiyonu o an çalıştığımız notebooka da mı eklememiz gerekiyor? Hayır! Daha kolay bir yöntemi olmalı!"
   ]
  },
  {
   "cell_type": "markdown",
   "id": "c974b0ab",
   "metadata": {},
   "source": [
    "```python\n",
    "!pip install ipynb # ipynb kütüphanesini bilgisayarımıza yükleyelim\n",
    "```"
   ]
  },
  {
   "cell_type": "markdown",
   "id": "93d73349",
   "metadata": {},
   "source": [
    "- Şimdi girilen bir sayının faktöriyelini hesaplayan basit bir fonksiyon oluşturalım ve bu sistemin nasıl çalıştığını anlamaya çalışalım."
   ]
  },
  {
   "cell_type": "code",
   "execution_count": 2,
   "id": "498c080c",
   "metadata": {},
   "outputs": [],
   "source": [
    "def factorial(n):\n",
    "    if n == 0:\n",
    "        return 1\n",
    "    else:\n",
    "        return n * factorial(n-1)"
   ]
  },
  {
   "cell_type": "code",
   "execution_count": 3,
   "id": "f25938df",
   "metadata": {},
   "outputs": [
    {
     "data": {
      "text/plain": [
       "1"
      ]
     },
     "execution_count": 3,
     "metadata": {},
     "output_type": "execute_result"
    }
   ],
   "source": [
    "factorial(0)"
   ]
  },
  {
   "cell_type": "code",
   "execution_count": 4,
   "id": "975799e2",
   "metadata": {},
   "outputs": [
    {
     "data": {
      "text/plain": [
       "1"
      ]
     },
     "execution_count": 4,
     "metadata": {},
     "output_type": "execute_result"
    }
   ],
   "source": [
    "factorial(1)"
   ]
  },
  {
   "cell_type": "code",
   "execution_count": 5,
   "id": "c9b3e26d",
   "metadata": {},
   "outputs": [
    {
     "data": {
      "text/plain": [
       "2"
      ]
     },
     "execution_count": 5,
     "metadata": {},
     "output_type": "execute_result"
    }
   ],
   "source": [
    "factorial(2)"
   ]
  },
  {
   "cell_type": "code",
   "execution_count": 6,
   "id": "43bb1a54",
   "metadata": {},
   "outputs": [
    {
     "data": {
      "text/plain": [
       "6"
      ]
     },
     "execution_count": 6,
     "metadata": {},
     "output_type": "execute_result"
    }
   ],
   "source": [
    "factorial(3)"
   ]
  },
  {
   "cell_type": "markdown",
   "id": "12c0d61a",
   "metadata": {},
   "source": [
    "- Fonksiyonumuz istediğimiz gibi çalışıyor! Peki ben bu fonksiyonu diğer notebooklarımda nasıl kullanabilirim?"
   ]
  },
  {
   "cell_type": "code",
   "execution_count": null,
   "id": "ad1a7c42",
   "metadata": {},
   "outputs": [],
   "source": []
  }
 ],
 "metadata": {
  "kernelspec": {
   "display_name": "Python 3 (ipykernel)",
   "language": "python",
   "name": "python3"
  },
  "language_info": {
   "codemirror_mode": {
    "name": "ipython",
    "version": 3
   },
   "file_extension": ".py",
   "mimetype": "text/x-python",
   "name": "python",
   "nbconvert_exporter": "python",
   "pygments_lexer": "ipython3",
   "version": "3.9.12"
  }
 },
 "nbformat": 4,
 "nbformat_minor": 5
}
