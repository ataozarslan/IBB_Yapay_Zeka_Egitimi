{
 "cells": [
  {
   "cell_type": "markdown",
   "metadata": {},
   "source": [
    "# Anaconda & Jupyter Notebook Kullanımı\n",
    "\n",
    "Python'ı konuşmaya başlamadan önce, Python kodlarımızı yazabileceğimiz ortamları ve bunları nasıl kullanabileceğimizi konuşalım. Burada önümüzde 2 seçeneğimiz var:\n",
    "\n",
    "**1. Bilgisayarınıza kullanacağınız kod geliştirme ortamını kurarak, yapacağımız çalışmalarda kendi bilgisayarınızın performansından yararlanmak**\n",
    "\n",
    "**2. İnternet tarayıcısında Bulut Sistemlerinin kaynakları üzerinden çalışan ortamları kullanmak**"
   ]
  },
  {
   "cell_type": "markdown",
   "metadata": {},
   "source": [
    "## Local PC: Anaconda Kurulumu\n",
    "\n",
    "Bilgisayarınıza [Anaconda Download](https://www.anaconda.com/products/distribution#Downloads) sitesinden işletim sistenize uygun Anaconda sürümünü yükleyebilirsiniz.\n",
    "\n",
    "![Anaconda](https://i.pinimg.com/originals/64/2b/4a/642b4a4eb254da80899e5700633aa789.jpg)<br>\n",
    "\n",
    "Eğer Anaconda kullanarak çalışacaksanız, hangi IDE kullanarak ilerleyeceğinize de karar vermek gerekiyor. Bilgisayarınıza Anaconda yüklendikten sonra bu seçenekleri değerlendirebilirsiniz.\n",
    "\n",
    "![Anaconda Code IDEs](https://docs.anaconda.com/_images/nav-tabs.png)"
   ]
  },
  {
   "cell_type": "markdown",
   "metadata": {},
   "source": [
    "## Remote PC: Google Colab, DataBricks, Kaggle Notebook...\n",
    "\n",
    "- [Google Colab](https://colab.research.google.com)\n",
    "- [Databricks](https://community.cloud.databricks.com/login.html)\n",
    "- [Kaggle Notebook](https://www.kaggle.com/code)\n",
    "\n",
    "![Colab](https://www.icds.psu.edu/wp-content/uploads/2021/07/juptyterlab-colab-logos.png)\n",
    "\n",
    "**Avantaj:** Bilgisayarınıza herhangi bir kurulum yapmadan doğrudan Python kodlarını geliştirmeye odaklanabilirmek<br>\n",
    "**Dezavantaj:** Sistem sürekli kendini güncellediğinden önceden çalışan kodların tekrar çalışabilmesi için bazı düzenlemeler yapılmasının gerekmesi"
   ]
  },
  {
   "cell_type": "markdown",
   "metadata": {},
   "source": [
    "# Python Temelleri\n",
    "\n",
    "**\"Python kodunu nasıl yazmalıyız?\"** konusuna başlamadan önce, Python'ın bazı temellerini gözden geçirdiğimiz gerekiyor. Bu araç kutumuzda özellikle **veri türleri** ve **Python'a özel araçlara** odaklanacağız."
   ]
  },
  {
   "cell_type": "markdown",
   "metadata": {},
   "source": [
    "## Print Fonksiyonu\n",
    "\n",
    "Python programlama dilinde çalışırken yapmış olduğumuz bir işlem sonucunda elde edilen çıktıyı bize söylemesini istiyorsak, bu işlemi en temel Python fonksiyonlarından biri olan `print()` fonksiyonunu kullanarak yaparız."
   ]
  },
  {
   "cell_type": "code",
   "execution_count": 5,
   "metadata": {},
   "outputs": [
    {
     "data": {
      "text/plain": [
       "5"
      ]
     },
     "execution_count": 5,
     "metadata": {},
     "output_type": "execute_result"
    }
   ],
   "source": [
    "2 * 3\n",
    "2 + 3"
   ]
  },
  {
   "cell_type": "code",
   "execution_count": 2,
   "metadata": {},
   "outputs": [
    {
     "data": {
      "text/plain": [
       "5"
      ]
     },
     "execution_count": 2,
     "metadata": {},
     "output_type": "execute_result"
    }
   ],
   "source": [
    "2 + 3"
   ]
  },
  {
   "cell_type": "code",
   "execution_count": 3,
   "metadata": {},
   "outputs": [
    {
     "ename": "SyntaxError",
     "evalue": "invalid syntax (25010090.py, line 1)",
     "output_type": "error",
     "traceback": [
      "\u001b[0;36m  Input \u001b[0;32mIn [3]\u001b[0;36m\u001b[0m\n\u001b[0;31m    Hello World!\u001b[0m\n\u001b[0m          ^\u001b[0m\n\u001b[0;31mSyntaxError\u001b[0m\u001b[0;31m:\u001b[0m invalid syntax\n"
     ]
    }
   ],
   "source": [
    "Hello World!"
   ]
  },
  {
   "cell_type": "code",
   "execution_count": 6,
   "metadata": {},
   "outputs": [
    {
     "name": "stdout",
     "output_type": "stream",
     "text": [
      "6\n",
      "5\n"
     ]
    }
   ],
   "source": [
    "print(2 * 3)\n",
    "print(2 + 3)"
   ]
  },
  {
   "cell_type": "code",
   "execution_count": 8,
   "metadata": {},
   "outputs": [
    {
     "name": "stdout",
     "output_type": "stream",
     "text": [
      "Hello World!\n"
     ]
    }
   ],
   "source": [
    "print('Hello World!')"
   ]
  },
  {
   "cell_type": "markdown",
   "metadata": {},
   "source": [
    "## Değişken Tanımlama\n",
    "\n",
    "İlkokul yıllarımızdaki matematik derslerini hatırlayın! Eğer o zamanlara ilişkin biraz bir şeyler hatırlıyorsanız, ilk aşamalarda genelde şu tarz problemleri çözmeye çalışırdık.\n",
    "\n",
    "- Ali'nin yaşı babasının yaşının yarısından 13 eksik olsun. Eğer Ali ile babasının yaşları toplamı 71 ise Ali kaç yaşındadır?\n",
    "\n",
    "Bu problemde de gidişatımız şu şekilde olurdu:\n",
    "\n",
    "$$ baba = a $$\n",
    "$$ ali = (a/2) - 13 $$\n",
    "$$ a + (a/2) - 13 = 71 $$\n",
    "\n",
    "Gerekli işlemler yapıldıktan sonra:\n",
    "\n",
    "$$ a = 56 => Baba $$\n",
    "$$ (a/2) - 13 = 15 => Ali $$"
   ]
  },
  {
   "cell_type": "code",
   "execution_count": 10,
   "metadata": {},
   "outputs": [],
   "source": [
    "a = 2\n",
    "b = 3"
   ]
  },
  {
   "cell_type": "code",
   "execution_count": 11,
   "metadata": {},
   "outputs": [
    {
     "name": "stdout",
     "output_type": "stream",
     "text": [
      "2\n"
     ]
    }
   ],
   "source": [
    "print(a)"
   ]
  },
  {
   "cell_type": "code",
   "execution_count": 12,
   "metadata": {},
   "outputs": [
    {
     "data": {
      "text/plain": [
       "6"
      ]
     },
     "execution_count": 12,
     "metadata": {},
     "output_type": "execute_result"
    }
   ],
   "source": [
    "a * b"
   ]
  },
  {
   "cell_type": "code",
   "execution_count": 13,
   "metadata": {},
   "outputs": [
    {
     "data": {
      "text/plain": [
       "5"
      ]
     },
     "execution_count": 13,
     "metadata": {},
     "output_type": "execute_result"
    }
   ],
   "source": [
    "a + b"
   ]
  },
  {
   "cell_type": "code",
   "execution_count": 14,
   "metadata": {},
   "outputs": [
    {
     "ename": "NameError",
     "evalue": "name 'x' is not defined",
     "output_type": "error",
     "traceback": [
      "\u001b[0;31m---------------------------------------------------------------------------\u001b[0m",
      "\u001b[0;31mNameError\u001b[0m                                 Traceback (most recent call last)",
      "Input \u001b[0;32mIn [14]\u001b[0m, in \u001b[0;36m<cell line: 1>\u001b[0;34m()\u001b[0m\n\u001b[0;32m----> 1\u001b[0m \u001b[43mx\u001b[49m \u001b[38;5;241m*\u001b[39m y\n",
      "\u001b[0;31mNameError\u001b[0m: name 'x' is not defined"
     ]
    }
   ],
   "source": [
    "x * y"
   ]
  },
  {
   "cell_type": "code",
   "execution_count": 15,
   "metadata": {},
   "outputs": [],
   "source": [
    "first_word = \"Hello\"\n",
    "second_word = \"World\""
   ]
  },
  {
   "cell_type": "code",
   "execution_count": 16,
   "metadata": {},
   "outputs": [
    {
     "name": "stdout",
     "output_type": "stream",
     "text": [
      "Hello World!\n"
     ]
    }
   ],
   "source": [
    "print(first_word + \" \" + second_word + \"!\")"
   ]
  },
  {
   "cell_type": "markdown",
   "metadata": {},
   "source": [
    "## Temel Veri Tipleri"
   ]
  },
  {
   "cell_type": "code",
   "execution_count": 17,
   "metadata": {},
   "outputs": [
    {
     "name": "stdout",
     "output_type": "stream",
     "text": [
      "Integer (int):  <class 'int'>\n",
      "Float (float):  <class 'float'>\n",
      "String (str):  <class 'str'>\n",
      "String (str):  <class 'str'>\n",
      "Boolean (bool):  <class 'bool'>\n"
     ]
    }
   ],
   "source": [
    "print(\"Integer (int): \", type(1))\n",
    "print(\"Float (float): \", type(1.5))\n",
    "print(\"String (str): \", type(\"1\"))\n",
    "print(\"String (str): \", type(\"Veri Bilimi\"))\n",
    "print(\"Boolean (bool): \", type(True))"
   ]
  },
  {
   "cell_type": "markdown",
   "metadata": {},
   "source": [
    "Bunlar, çoğunlukla Python'da sıklıkla karşılaşacağımız temel veri türleridir. \n",
    "* **Integer (int)** veri tipi **tam sayılardır**. \n",
    "* **Float (float)** veri tipi **ondalıklı (virgüllü) sayılardır**.\n",
    "* **String (str)** veri tipi **metin verileridir**. İçerisinde sayı barındırabilir, ancak bu sayılar **gerçek sayılar değildir**. \n",
    "* **Boolean (bool)** veri tipi **True/False (Doğru/Yanlış)** ifadeleridir."
   ]
  },
  {
   "cell_type": "code",
   "execution_count": 18,
   "metadata": {},
   "outputs": [
    {
     "data": {
      "text/plain": [
       "6"
      ]
     },
     "execution_count": 18,
     "metadata": {},
     "output_type": "execute_result"
    }
   ],
   "source": [
    "2 * 3"
   ]
  },
  {
   "cell_type": "code",
   "execution_count": 19,
   "metadata": {
    "scrolled": true
   },
   "outputs": [
    {
     "ename": "TypeError",
     "evalue": "can't multiply sequence by non-int of type 'str'",
     "output_type": "error",
     "traceback": [
      "\u001b[0;31m---------------------------------------------------------------------------\u001b[0m",
      "\u001b[0;31mTypeError\u001b[0m                                 Traceback (most recent call last)",
      "Input \u001b[0;32mIn [19]\u001b[0m, in \u001b[0;36m<cell line: 1>\u001b[0;34m()\u001b[0m\n\u001b[0;32m----> 1\u001b[0m \u001b[38;5;124;43m\"\u001b[39;49m\u001b[38;5;124;43m2\u001b[39;49m\u001b[38;5;124;43m\"\u001b[39;49m\u001b[43m \u001b[49m\u001b[38;5;241;43m*\u001b[39;49m\u001b[43m \u001b[49m\u001b[38;5;124;43m\"\u001b[39;49m\u001b[38;5;124;43m3\u001b[39;49m\u001b[38;5;124;43m\"\u001b[39;49m\n",
      "\u001b[0;31mTypeError\u001b[0m: can't multiply sequence by non-int of type 'str'"
     ]
    }
   ],
   "source": [
    "\"2\" * \"3\""
   ]
  },
  {
   "cell_type": "code",
   "execution_count": 20,
   "metadata": {
    "scrolled": true
   },
   "outputs": [
    {
     "data": {
      "text/plain": [
       "5"
      ]
     },
     "execution_count": 20,
     "metadata": {},
     "output_type": "execute_result"
    }
   ],
   "source": [
    "2 + 3"
   ]
  },
  {
   "cell_type": "code",
   "execution_count": 23,
   "metadata": {
    "scrolled": true
   },
   "outputs": [
    {
     "data": {
      "text/plain": [
       "'23'"
      ]
     },
     "execution_count": 23,
     "metadata": {},
     "output_type": "execute_result"
    }
   ],
   "source": [
    "\"2\" + \"3\""
   ]
  },
  {
   "cell_type": "markdown",
   "metadata": {},
   "source": [
    "## Listeler (Lists)"
   ]
  },
  {
   "cell_type": "markdown",
   "metadata": {},
   "source": [
    "Listeler süper esnektir, farklı veri tiplerinin birleşimden oluşabilirler ve üzerilerinde **değişiklik yapmamıza izin verirler**.\n",
    "\n",
    "> **Önemli Not:** Listelerin köşeli parantezler ile gösterildiğine dikkat edin!"
   ]
  },
  {
   "cell_type": "code",
   "execution_count": 24,
   "metadata": {},
   "outputs": [
    {
     "name": "stdout",
     "output_type": "stream",
     "text": [
      "[1, [2, 3, 4], 3, 4, 5, 6, 7, 8]\n"
     ]
    }
   ],
   "source": [
    "example_list = [1,[2,3,4],3,4,5,6,7,8]\n",
    "print(example_list)"
   ]
  },
  {
   "cell_type": "code",
   "execution_count": 25,
   "metadata": {},
   "outputs": [
    {
     "data": {
      "text/plain": [
       "list"
      ]
     },
     "execution_count": 25,
     "metadata": {},
     "output_type": "execute_result"
    }
   ],
   "source": [
    "type(example_list)"
   ]
  },
  {
   "cell_type": "code",
   "execution_count": 26,
   "metadata": {},
   "outputs": [
    {
     "data": {
      "text/plain": [
       "8"
      ]
     },
     "execution_count": 26,
     "metadata": {},
     "output_type": "execute_result"
    }
   ],
   "source": [
    "len(example_list)"
   ]
  },
  {
   "cell_type": "code",
   "execution_count": 27,
   "metadata": {},
   "outputs": [
    {
     "data": {
      "text/plain": [
       "3"
      ]
     },
     "execution_count": 27,
     "metadata": {},
     "output_type": "execute_result"
    }
   ],
   "source": [
    "len(\"Ata\")"
   ]
  },
  {
   "cell_type": "markdown",
   "metadata": {},
   "source": [
    "Artık bir tuple veri yapısına sahip olduğumuza göre, ondan tek bir parça almak istersek ne yapmamız gerek?\n",
    "\n",
    "Tuple veri tipi içerisinde bir çok değer barındırdığı için onların içerisinden istediğimiz kısmı alabilmemiz için **Python index** yapısını kullanmamız gerekir."
   ]
  },
  {
   "cell_type": "code",
   "execution_count": 28,
   "metadata": {},
   "outputs": [
    {
     "name": "stdout",
     "output_type": "stream",
     "text": [
      "[2, 3, 4]\n",
      "3\n"
     ]
    }
   ],
   "source": [
    "print(example_list[1]) # Unutmayalım, Python'da index yapıları 0'dan başlayarak devam eder!\n",
    "print(example_list[2])"
   ]
  },
  {
   "cell_type": "code",
   "execution_count": 29,
   "metadata": {},
   "outputs": [
    {
     "name": "stdout",
     "output_type": "stream",
     "text": [
      "2\n"
     ]
    }
   ],
   "source": [
    "print(example_list[1][0])"
   ]
  },
  {
   "cell_type": "markdown",
   "metadata": {},
   "source": [
    "Peki ya birden fazla elemanı almak istersem?\n",
    "- İşte o zaman verinin o kısmını ayırmam lazım.\n",
    "\n",
    "Python Slicing:\n",
    "\n",
    "```python\n",
    "# Slicing Yapısı\n",
    "ayrılacak_değişkenin_ismi[başlangıç_index : bitiş_index : atlama_sayısı] \n",
    "```\n",
    "> **Önemli Not:** İndex sayıları belirtilirken başlangıç_index olarak belirttiğimiz index dahil edilirken, bitiş_index dahil edilmez!"
   ]
  },
  {
   "cell_type": "code",
   "execution_count": 30,
   "metadata": {},
   "outputs": [
    {
     "name": "stdout",
     "output_type": "stream",
     "text": [
      "[[2, 3, 4], 3, 4]\n"
     ]
    }
   ],
   "source": [
    "# Sadece 3 adet index aldığımızı unutmayın; 1, 2, 3 numaralı indexler\n",
    "print(example_list[1:4])"
   ]
  },
  {
   "cell_type": "markdown",
   "metadata": {},
   "source": [
    "Peki ya sondan 1, 2 index değeri almak istersem?"
   ]
  },
  {
   "cell_type": "code",
   "execution_count": 31,
   "metadata": {},
   "outputs": [
    {
     "name": "stdout",
     "output_type": "stream",
     "text": [
      "8\n"
     ]
    }
   ],
   "source": [
    "print(example_list[-1])"
   ]
  },
  {
   "cell_type": "code",
   "execution_count": 32,
   "metadata": {},
   "outputs": [
    {
     "name": "stdout",
     "output_type": "stream",
     "text": [
      "[7, 8]\n",
      "8\n"
     ]
    }
   ],
   "source": [
    "print(example_list[-2:])\n",
    "print(example_list[-1])"
   ]
  },
  {
   "cell_type": "code",
   "execution_count": 33,
   "metadata": {},
   "outputs": [
    {
     "name": "stdout",
     "output_type": "stream",
     "text": [
      "[1, 3, 5]\n"
     ]
    }
   ],
   "source": [
    "print(example_list[:-2:2])"
   ]
  },
  {
   "cell_type": "code",
   "execution_count": 34,
   "metadata": {},
   "outputs": [
    {
     "data": {
      "text/plain": [
       "1"
      ]
     },
     "execution_count": 34,
     "metadata": {},
     "output_type": "execute_result"
    }
   ],
   "source": [
    "example_list[0]"
   ]
  },
  {
   "cell_type": "code",
   "execution_count": 35,
   "metadata": {},
   "outputs": [
    {
     "data": {
      "text/plain": [
       "['DIFFERENT NOW', [2, 3, 4], 3, 4, 5, 6, 7, 8]"
      ]
     },
     "execution_count": 35,
     "metadata": {},
     "output_type": "execute_result"
    }
   ],
   "source": [
    "example_list[0] = 'DIFFERENT NOW'\n",
    "example_list"
   ]
  },
  {
   "cell_type": "markdown",
   "metadata": {},
   "source": [
    "Listelerin içerisindeki verileri değiştirebildiğimiz gibi istediğimiz parçaları **çıkarabilir** veya dışarıdan veri **ekleyebiliriz**."
   ]
  },
  {
   "cell_type": "code",
   "execution_count": 36,
   "metadata": {},
   "outputs": [
    {
     "name": "stdout",
     "output_type": "stream",
     "text": [
      "['DIFFERENT NOW', [2, 3, 4], 3, 4, 5, 6, 7, 8, 2]\n"
     ]
    }
   ],
   "source": [
    "# Listemize ekleme yapalım\n",
    "example_list.append(2)\n",
    "print(example_list)"
   ]
  },
  {
   "cell_type": "code",
   "execution_count": 37,
   "metadata": {},
   "outputs": [],
   "source": [
    "# Listede istenilen indexe ekleme yapalım\n",
    "example_list.insert(1, \"New Data\")"
   ]
  },
  {
   "cell_type": "code",
   "execution_count": 38,
   "metadata": {},
   "outputs": [
    {
     "data": {
      "text/plain": [
       "['DIFFERENT NOW', 'New Data', [2, 3, 4], 3, 4, 5, 6, 7, 8, 2]"
      ]
     },
     "execution_count": 38,
     "metadata": {},
     "output_type": "execute_result"
    }
   ],
   "source": [
    "example_list"
   ]
  },
  {
   "cell_type": "code",
   "execution_count": 41,
   "metadata": {},
   "outputs": [
    {
     "name": "stdout",
     "output_type": "stream",
     "text": [
      "['DIFFERENT NOW', 'New Data', 4, 5, 6, 7, 8]\n"
     ]
    }
   ],
   "source": [
    "# Listemizden 2 elemanını çıkaralım\n",
    "example_list.remove(3)\n",
    "print(example_list)"
   ]
  },
  {
   "cell_type": "code",
   "execution_count": 40,
   "metadata": {},
   "outputs": [
    {
     "data": {
      "text/plain": [
       "['DIFFERENT NOW', 'New Data', 3, 4, 5, 6, 7, 8]"
      ]
     },
     "execution_count": 40,
     "metadata": {},
     "output_type": "execute_result"
    }
   ],
   "source": [
    "# Listeden istenilen indexteki elemanı çıkaralım\n",
    "example_list.pop(2)\n",
    "example_list"
   ]
  },
  {
   "cell_type": "markdown",
   "metadata": {},
   "source": [
    "## Sözlükler (Dictionaries)"
   ]
  },
  {
   "cell_type": "markdown",
   "metadata": {},
   "source": [
    "Şu anda işlememiz gereken son ana veri tipimiz sözlüklerdir. Sözlükler şu ana kadar öğrendiğimiz veri tiplerinden farklı olarak  \"gruplara\" sahip olmamızı sağlar, ancak indexe göre çalışmak yerine **Key/Value (Anahtar/Değer)** çiftlerini kullanılırlar. Bunun bazı önemli faydaları var, ancak öncesinde nasıl çalıştığını görelim.\n",
    "\n",
    "> **Önemli Not:** Sözlükler de küme parantezleriyle gösterilir, ancak bir set olarak algılanmamaları için **Key ve Value** değerlerinden oluşması gerekir."
   ]
  },
  {
   "cell_type": "code",
   "execution_count": 42,
   "metadata": {},
   "outputs": [
    {
     "name": "stdout",
     "output_type": "stream",
     "text": [
      "8\n"
     ]
    }
   ],
   "source": [
    "new_dictionary = {'key_for_this_thing': 8}\n",
    "print(new_dictionary['key_for_this_thing'])"
   ]
  },
  {
   "cell_type": "markdown",
   "metadata": {},
   "source": [
    "Sözlükler, her bir key değerinin içerisinde **birden fazla farklı veri tipi** bulundurabilir."
   ]
  },
  {
   "cell_type": "code",
   "execution_count": 43,
   "metadata": {},
   "outputs": [
    {
     "name": "stdout",
     "output_type": "stream",
     "text": [
      "[0, 1, 2, 3, 4]\n"
     ]
    }
   ],
   "source": [
    "new_dictionary = {'key_for_a_list': [0,1,2,3,4], 'key_for_another_dictionary': {'bob': 1}}\n",
    "print(new_dictionary['key_for_a_list'])"
   ]
  },
  {
   "cell_type": "code",
   "execution_count": 44,
   "metadata": {},
   "outputs": [
    {
     "data": {
      "text/plain": [
       "2"
      ]
     },
     "execution_count": 44,
     "metadata": {},
     "output_type": "execute_result"
    }
   ],
   "source": [
    "len(new_dictionary)"
   ]
  },
  {
   "cell_type": "code",
   "execution_count": 45,
   "metadata": {},
   "outputs": [
    {
     "name": "stdout",
     "output_type": "stream",
     "text": [
      "{'bob': 1}\n",
      "1\n"
     ]
    }
   ],
   "source": [
    "print(new_dictionary['key_for_another_dictionary'])\n",
    "print(new_dictionary['key_for_another_dictionary']['bob'])"
   ]
  },
  {
   "cell_type": "code",
   "execution_count": 46,
   "metadata": {},
   "outputs": [
    {
     "name": "stdout",
     "output_type": "stream",
     "text": [
      "{1914: ['Red Sox', 5, 10, 0], 1915: ['Red Sox', 43, 104, 4]}\n",
      "['Red Sox', 5, 10, 0]\n"
     ]
    }
   ],
   "source": [
    "career_stats = {'babe_ruth': {1914: [\"Red Sox\", 5, 10, 0], 1915:['Red Sox', 43, 104, 4]},\n",
    "                'gavvy_cravath': {1914: ['Phillies',149,604,14]}}\n",
    "\n",
    "print(career_stats['babe_ruth'])\n",
    "print(career_stats['babe_ruth'][1914])"
   ]
  },
  {
   "cell_type": "code",
   "execution_count": 47,
   "metadata": {},
   "outputs": [
    {
     "name": "stdout",
     "output_type": "stream",
     "text": [
      "dict_keys(['babe_ruth', 'gavvy_cravath'])\n",
      "dict_values([{1914: ['Red Sox', 5, 10, 0], 1915: ['Red Sox', 43, 104, 4]}, {1914: ['Phillies', 149, 604, 14]}])\n"
     ]
    }
   ],
   "source": [
    "# Ek olarak sadece key ve value değerine de ulaşılabilir.\n",
    "print(career_stats.keys())\n",
    "print(career_stats.values())"
   ]
  },
  {
   "cell_type": "markdown",
   "metadata": {},
   "source": [
    "Sözlükleri sevmemizin nedeni, veri almada gerçekten hızlı olmaları ve içermek istediğimiz her değere bir anahtar atamamıza izin vermeleridir."
   ]
  },
  {
   "cell_type": "markdown",
   "metadata": {},
   "source": [
    "## Python Kodlama Stili\n",
    "\n",
    "Python'un **Python'u nasıl yazmamız gerektiğini** belirleyen [PEP8](https://www.python.org/dev/peps/pep-0008/) adı verilen bir dizi kuralı bulunur. Bir sonraki bölümde, programlamada yeniyken sezgisel olabilecek PEP 8'in bazı önemli kısımlarından geçeceğiz. Ayrıca Python'a özgü bazı özel kod türlerini de vurgulayacağız. Bunun tüm PEP8'in tam bir gösterimi olmadığını unutmayın, sadece bazı belirli yönlerine odaklanıyoruz.\n",
    "\n",
    "Başlangıç olarak, bize fikir vermesi açısından `import this` kod bloğunu çalıştıralım. Burdan elde ettiğimiz çıktı bize Python kodlarımızı nasıl yazmamız gerektiğiyle ilgi temel kurallardan bahseder."
   ]
  },
  {
   "cell_type": "code",
   "execution_count": 48,
   "metadata": {},
   "outputs": [
    {
     "name": "stdout",
     "output_type": "stream",
     "text": [
      "The Zen of Python, by Tim Peters\n",
      "\n",
      "Beautiful is better than ugly.\n",
      "Explicit is better than implicit.\n",
      "Simple is better than complex.\n",
      "Complex is better than complicated.\n",
      "Flat is better than nested.\n",
      "Sparse is better than dense.\n",
      "Readability counts.\n",
      "Special cases aren't special enough to break the rules.\n",
      "Although practicality beats purity.\n",
      "Errors should never pass silently.\n",
      "Unless explicitly silenced.\n",
      "In the face of ambiguity, refuse the temptation to guess.\n",
      "There should be one-- and preferably only one --obvious way to do it.\n",
      "Although that way may not be obvious at first unless you're Dutch.\n",
      "Now is better than never.\n",
      "Although never is often better than *right* now.\n",
      "If the implementation is hard to explain, it's a bad idea.\n",
      "If the implementation is easy to explain, it may be a good idea.\n",
      "Namespaces are one honking great idea -- let's do more of those!\n"
     ]
    }
   ],
   "source": [
    "import this"
   ]
  },
  {
   "cell_type": "markdown",
   "metadata": {},
   "source": [
    "Python'da kodlama yapmakla ilgili şu noktaları tekrar hatırlatmakta fayda var:\n",
    "\n",
    "> Kodlar insanlar içindir. Genellikle bir proje harcadığımız zamanın 95%'lik kısmını hata ayıklamaya harcarız. Bu sebeple, yazdığımız kodun okunaklı ve anlaşılabilir olması oldukça önemlidir. Çalıştırmak her zaman 2. aşamada gelir. Eğer kodlarınızı düzenli bir şekilde yazarsanız emin olun ileride kendinize teşekkür edeceksiniz. Emin olun **herkesin anladığı beş satırlık bir çözüm**, yalnızca bir satır uzunluğunda olan ancak **hiç kimsenin hızlı bir şekilde hata ayıklayamadığı süper akıllı bir çözümden** daha iyidir.\n",
    "\n",
    "> **Kod Geliştirme Sürecinde Takip Edilmesi Gereken Sıralama**\n",
    "> * Çalışmasını sağlayın\n",
    "> * Doğru olmasını sağlayın\n",
    "> * Okunabilir olmasını sağlayın\n",
    "> * Hızlı çalışmasını sağlayın (bu kısım nadiren olur)"
   ]
  },
  {
   "cell_type": "markdown",
   "metadata": {},
   "source": [
    "## Değişken İsimleri\n",
    "\n",
    "Değişken isimleriyle ilgili bir kaç kuraldan da bahsetmesek olmaz. Genel olarak, şu kurala bağlı kalmak mantıklıdır,\n",
    "> Sarhoş halim bu değişkenin isminden ne için kullanıldığını anlayabilir mi? Anlayamıyorsanız, değiştirin!\n",
    "\n",
    "Bu kuralı biraz daha detaylandıracak olursak,\n",
    "    \n",
    "* Değişken isimleriniz anlamlı ifadelerden oluşmalı. Örneğin, `x` anlamlı bir ifade değildir.\n",
    "* Uzun değişken isimleri anlamsız değişken isimlerine göre bile tercih edilir. Kısa, ancak anlamlı isimler her zaman daha iyidir.\n",
    "* Boşlukları temsil etmek için `_` kullanın. (Bu genel bir Python kuralıdır)\n",
    "* Büyük harfli içeren yazımlardan kaçının.\n",
    "* Python uluslararası alanda oldukça popüler olan bir programlama dilidir, ilerleyen aşamalarda araştırma yaparken bile İngilizce bilgisi bizi her zaman öne taşıyacak. Bu sebeple, mümkünse kodlarımızı İngilizce olarak yazmak her zaman daha iyidir.\n",
    "\n",
    "Bazı örnek değişken isimleri:\n",
    "\n",
    "`customer_order_value`, `ordered_document_list`, `mlb_batting_statistics_1887_1990`\n",
    "\n",
    "İçeriğini görmeden bile, bu değişkenlerin içinde ne tarz bilgiler barındırdığını tahmin edebiliyorum. İşte bu bizim istediğimiz stil!"
   ]
  },
  {
   "cell_type": "markdown",
   "metadata": {},
   "source": [
    "## Koşullu İfadeler (If / Elif / Else)\n",
    "\n",
    "Gerçek hayatta, genellikle etrafımızdaki bilgileri değerlendirmeli ve ardından gözlemlediklerimize göre bir hareket tarzı seçmeliyiz.\n",
    "\n",
    "- Hava güzelse dışarı çıkacağım. (Hava güzel değilse dışarı çıkmayacağım anlamına gelir.) \n",
    "\n",
    "Python'da `if` yapısı bu tür karar verme seçeneklerini yönetmek için kullanılırız. Belirtilen durumun gerçekleşmesi durumunda bu yöntemi izle, gerçekleşmediği durumlarda ise şu yöntemi izle mantığı vardır."
   ]
  },
  {
   "cell_type": "code",
   "execution_count": 50,
   "metadata": {},
   "outputs": [
    {
     "name": "stdout",
     "output_type": "stream",
     "text": [
      "3 is not bigger\n"
     ]
    }
   ],
   "source": [
    "if 4 > 5:\n",
    "    print(\"3 is bigger\")\n",
    "print(\"3 is not bigger\")"
   ]
  },
  {
   "cell_type": "code",
   "execution_count": 51,
   "metadata": {},
   "outputs": [
    {
     "name": "stdout",
     "output_type": "stream",
     "text": [
      "10 is smaller than 12\n",
      "10 is smaller than 25\n"
     ]
    }
   ],
   "source": [
    "number = 10\n",
    "if number < 5:\n",
    "    print(number, 'is smaller than 5')\n",
    "if number < 12:\n",
    "    print(number, 'is smaller than 12')\n",
    "if number < 25:\n",
    "    print(number, 'is smaller than 25')"
   ]
  },
  {
   "cell_type": "code",
   "execution_count": 52,
   "metadata": {},
   "outputs": [
    {
     "name": "stdout",
     "output_type": "stream",
     "text": [
      "10 is smaller than 12\n"
     ]
    }
   ],
   "source": [
    "number = 10\n",
    "if number < 5:\n",
    "    print(number, 'is smaller than 5')\n",
    "elif number < 12:\n",
    "    print(number, 'is smaller than 12')\n",
    "elif number < 25:\n",
    "    print(number, 'is smaller than 25')"
   ]
  },
  {
   "cell_type": "code",
   "execution_count": 54,
   "metadata": {},
   "outputs": [
    {
     "name": "stdout",
     "output_type": "stream",
     "text": [
      "a is smaller than b AND b is smaller than c\n"
     ]
    }
   ],
   "source": [
    "# 2'den fazla koşul belirtmek de mümkündür\n",
    "a = 30\n",
    "b = 20 \n",
    "c = 10\n",
    "if a < b and b > c:\n",
    "    print(\"a is bigger than b AND b is bigger than c\")\n",
    "elif a < b or b > c:\n",
    "    print(\"a is smaller than b AND b is smaller than c\")\n",
    "else:\n",
    "    print(\"These conditions did not hold\")"
   ]
  },
  {
   "cell_type": "code",
   "execution_count": 55,
   "metadata": {},
   "outputs": [
    {
     "name": "stdout",
     "output_type": "stream",
     "text": [
      "Yes!\n"
     ]
    }
   ],
   "source": [
    "number_list = [10,20,30,40,50]\n",
    "if 50 in number_list:\n",
    "    print(\"Yes!\")"
   ]
  },
  {
   "cell_type": "markdown",
   "metadata": {},
   "source": [
    "> **SORU:** Peki ya liste içerisinde tüm elemanları belirli bir işleme tabi tutmak istersem?"
   ]
  },
  {
   "cell_type": "markdown",
   "metadata": {},
   "source": [
    "## Döngüler (For / While)\n",
    "\n",
    "Döngü, aynı kod bloğunun potansiyel olarak birçok kez tekrar tekrar yürütülmesi anlamına gelir. Python'da döngü kurabileceğimiz 2 temel yapı vardır:\n",
    "\n",
    "- **For** & **While** Döngüleri. \n",
    "\n",
    "Ancak veri biliminde yapılan çalışmalarda genellikle **for döngüleri** çok daha yaygın bir şekilde kullanılırlar."
   ]
  },
  {
   "cell_type": "code",
   "execution_count": 56,
   "metadata": {},
   "outputs": [
    {
     "name": "stdout",
     "output_type": "stream",
     "text": [
      "16.666666666666668\n",
      "33.333333333333336\n",
      "50.0\n",
      "66.66666666666667\n",
      "83.33333333333333\n"
     ]
    }
   ],
   "source": [
    "for number in number_list:\n",
    "    new_number = number * 5 / 3\n",
    "    print(new_number)"
   ]
  },
  {
   "cell_type": "code",
   "execution_count": 60,
   "metadata": {},
   "outputs": [
    {
     "name": "stdout",
     "output_type": "stream",
     "text": [
      "0\n",
      "1\n",
      "2\n",
      "3\n",
      "4\n",
      "5\n",
      "6\n",
      "7\n",
      "8\n",
      "9\n"
     ]
    }
   ],
   "source": [
    "number = 0\n",
    "while number < 10:\n",
    "    print(number)\n",
    "    number += 1"
   ]
  },
  {
   "cell_type": "markdown",
   "metadata": {
    "slideshow": {
     "slide_type": "slide"
    }
   },
   "source": [
    "## Fonksiyonlar - Yazılanları Sürekli Tekrar Etmeme Sanatı\n",
    "\n",
    "Eğer bir gün kendini önceden yazdıklarını kopyala-yapıştır yaparken yakalarsan, hayır bunu yapma...\n",
    "\n",
    "Önceden yazdığımız kodlar hiç bir zaman kopyala-yapıştır yapılmamalı. Peki ben önceden yaptığım bir işlemi, şu anda çalıştığım satıra nasıl taşıyacağım? \n",
    "> İşte bunun çözümü fonksiyonlar oluşturmak.\n",
    "\n",
    "Diyelim ki satış kaydından bir kullanıcınin verilerini almak ve o tabloda bir kullanıcıyı kaç kez gördüğümü takip etmek istediğim bir grup veriyi işliyorum."
   ]
  },
  {
   "cell_type": "code",
   "execution_count": 61,
   "metadata": {
    "slideshow": {
     "slide_type": "slide"
    }
   },
   "outputs": [
    {
     "name": "stdout",
     "output_type": "stream",
     "text": [
      "{'Sam': 3, 'Carol': 2, 'Doug': 2, 'Oliver': 1, 'Tari': 2}\n"
     ]
    }
   ],
   "source": [
    "table1 = [['Sam', 36, 85.95],\n",
    " ['Carol', 75, 53.65],\n",
    " ['Sam', 90, 95.37],\n",
    " ['Doug', 61, 19.8],\n",
    " ['Sam', 41, 45.22],\n",
    " ['Doug', 29, 42.98],\n",
    " ['Oliver', 61, 95.74],\n",
    " ['Carol', 32, 17.12],\n",
    " ['Tari', 27, 68.83],\n",
    " ['Tari', 81, 62.47]]\n",
    "\n",
    "name_counter = {}\n",
    "for row in table1:\n",
    "    name = row[0]\n",
    "    if name in name_counter.keys():\n",
    "        name_counter[name] += 1\n",
    "    else:\n",
    "        name_counter[name] = 1\n",
    "print(name_counter)"
   ]
  },
  {
   "cell_type": "markdown",
   "metadata": {},
   "source": [
    "Peki elime yeni bir tablo daha geldi ve tekrardan aynı işlemi yapmam gerekiyor.\n",
    "\n",
    "Elimde 2 seçeneğim var, \n",
    "- Ya üstte yazdığım ifadeyi kopyala-yapıştır yapıcam?\n",
    "- Ya da üstte yazdığım ifadeyi bir fonksiyona dönüştürücem?\n",
    "\n",
    "Hadi bu sefer fonksiyona dönüştürmeyi deneyelim,"
   ]
  },
  {
   "cell_type": "code",
   "execution_count": 62,
   "metadata": {},
   "outputs": [],
   "source": [
    "def count_names_in_tables(table_to_count):\n",
    "    \"\"\"\n",
    "    İlk sütunu kullanıcının adından oluşacak şekilde, bir tablo verisi alır\n",
    "    ve her bir kullanıcının tabloda kaç defa geçtiğini bulur.\n",
    "    ---\n",
    "    Girdi: Tablo (bir çok listeden oluşan bir liste)\n",
    "    Çıktı: Sözlük (İsimler key değerleri, kaç defa geçtikleri value değerleri)\n",
    "    \"\"\"\n",
    "    name_counter = {}\n",
    "    for row in table_to_count:\n",
    "        name = row[0]\n",
    "        if name in name_counter.keys():\n",
    "            name_counter[name] += 1\n",
    "        else:\n",
    "            name_counter[name] = 1\n",
    "    return name_counter"
   ]
  },
  {
   "cell_type": "code",
   "execution_count": 63,
   "metadata": {},
   "outputs": [
    {
     "name": "stdout",
     "output_type": "stream",
     "text": [
      "{'Sam': 3, 'Carol': 2, 'Doug': 2, 'Oliver': 1, 'Tari': 2}\n"
     ]
    }
   ],
   "source": [
    "print(count_names_in_tables(table1))"
   ]
  },
  {
   "cell_type": "code",
   "execution_count": null,
   "metadata": {},
   "outputs": [],
   "source": [
    "count_names_in_tables()"
   ]
  },
  {
   "cell_type": "code",
   "execution_count": 64,
   "metadata": {},
   "outputs": [
    {
     "name": "stdout",
     "output_type": "stream",
     "text": [
      "{'Oliver': 1, 'Tari': 3, 'Carol': 4, 'Kelly': 1, 'Sam': 1}\n"
     ]
    }
   ],
   "source": [
    "table2 = [['Oliver', 12, 49.95],\n",
    " ['Tari', 76, 30.71],\n",
    " ['Carol', 98, 25.07],\n",
    " ['Carol', 24, 11.85],\n",
    " ['Carol', 34, 13.36],\n",
    " ['Kelly', 14, 34.31],\n",
    " ['Tari', 6, 86.11],\n",
    " ['Tari', 90, 29.08],\n",
    " ['Carol', 55, 45.61],\n",
    " ['Sam', 88, 97.47]]\n",
    "\n",
    "print(count_names_in_tables(table2))"
   ]
  },
  {
   "cell_type": "markdown",
   "metadata": {},
   "source": [
    "Yazdığımız fonksiyonla ilgili bazı noktalara değinelim,\n",
    "\n",
    "* Değişkenlerin belli kalıplara sokulmaması gerekir. Biz her zaman fonksiyonlarımızın esnek olmasını isteriz.\n",
    "* Yazdığımız fonksiyonun sadece bir kere değil istediğimiz kadar kullanabilmeliyiz.\n",
    "* Günün sonunda, her işlev bir hedefi gerçekleştirmelidir. Bu, her işlevin aynı anda yalnızca bir hedefe ulaştığından emin olmak için bir işlev içinde bir işlev çağırmamız gerektiği anlamına gelebilir.\n",
    "\n",
    "İşte bu işlevler, tekrarlanan eylemleri minimum kodla verimli bir şekilde gerçekleştirmemizi sağlar. Ayrıca bize birkaç fayda daha sağlarlar: \n",
    "* Eğer sürecimizi yükseltmemiz gerekiyorsa, sadece bir yerde işlevi değiştirmemiz gerekir ve yaptığımız bu değişiklik kodun geri kalanını doğrudan etkileyecek. \n",
    "* Hata aldığımızda, Python hangi işlevin nerede ve nerede bozulduğunu tespit eder, böylece hataları hızlı bir şekilde bulabiliriz."
   ]
  },
  {
   "cell_type": "markdown",
   "metadata": {},
   "source": [
    "# Notebooklar Arasında Çalışmak\n",
    "\n",
    "Şimdi de diğer notebookda oluşturduğumuz fonksiyonumuzu buraya çağıralım."
   ]
  },
  {
   "cell_type": "code",
   "execution_count": 65,
   "metadata": {},
   "outputs": [],
   "source": [
    "from Python_UDF import factorial # Python dosyasından import"
   ]
  },
  {
   "cell_type": "code",
   "execution_count": 66,
   "metadata": {},
   "outputs": [
    {
     "data": {
      "text/plain": [
       "6"
      ]
     },
     "execution_count": 66,
     "metadata": {},
     "output_type": "execute_result"
    }
   ],
   "source": [
    "factorial(3)"
   ]
  },
  {
   "cell_type": "code",
   "execution_count": 67,
   "metadata": {},
   "outputs": [],
   "source": [
    "from ipynb.fs.full.Python_UDF import factorial # Jupyter Notebook dosyasından import"
   ]
  },
  {
   "cell_type": "code",
   "execution_count": 68,
   "metadata": {},
   "outputs": [
    {
     "data": {
      "text/plain": [
       "6"
      ]
     },
     "execution_count": 68,
     "metadata": {},
     "output_type": "execute_result"
    }
   ],
   "source": [
    "factorial(3)"
   ]
  },
  {
   "cell_type": "markdown",
   "metadata": {
    "slideshow": {
     "slide_type": "slide"
    }
   },
   "source": [
    "## Belge Dizini Yapıları\n",
    "\n",
    "Belge dizileri, o şeyin işlevini tanımlamaya yardımcı olan ve özellikle fonksiyon yapılarından sonra gelen üç tırnaklı dizelerdir."
   ]
  },
  {
   "cell_type": "code",
   "execution_count": 69,
   "metadata": {
    "slideshow": {
     "slide_type": "slide"
    }
   },
   "outputs": [],
   "source": [
    "def multiply_by_two(number):\n",
    "    \"\"\"\n",
    "    Bu fonksiyon girdi olarak girilen değeri 2'yle çarpar\n",
    "    ---\n",
    "    Girdi: Sayısal\n",
    "    Çıktı: Sayısal\n",
    "    \"\"\"\n",
    "    return 2*number"
   ]
  },
  {
   "cell_type": "code",
   "execution_count": 70,
   "metadata": {
    "slideshow": {
     "slide_type": "slide"
    }
   },
   "outputs": [
    {
     "data": {
      "text/plain": [
       "8"
      ]
     },
     "execution_count": 70,
     "metadata": {},
     "output_type": "execute_result"
    }
   ],
   "source": [
    "multiply_by_two(4)"
   ]
  },
  {
   "cell_type": "code",
   "execution_count": 71,
   "metadata": {},
   "outputs": [
    {
     "data": {
      "text/plain": [
       "20"
      ]
     },
     "execution_count": 71,
     "metadata": {},
     "output_type": "execute_result"
    }
   ],
   "source": [
    "multiply_by_two(10)"
   ]
  },
  {
   "cell_type": "code",
   "execution_count": 72,
   "metadata": {},
   "outputs": [
    {
     "data": {
      "text/plain": [
       "'44'"
      ]
     },
     "execution_count": 72,
     "metadata": {},
     "output_type": "execute_result"
    }
   ],
   "source": [
    "multiply_by_two(\"4\")"
   ]
  },
  {
   "cell_type": "markdown",
   "metadata": {},
   "source": [
    "## Enumerate\n",
    "\n",
    "Bazı durumlarda elemanlarımızın index numaralarına erişme ve onlarla çalışma ihtiyacı duyarız. Bu amaç doğrultusunda eğer satırın index numaralarına ihtiyacım varsa bu konuda `enumerate` fonksiyonundan yararlanabiliriz."
   ]
  },
  {
   "cell_type": "code",
   "execution_count": 73,
   "metadata": {},
   "outputs": [
    {
     "data": {
      "text/plain": [
       "[['Sam', 36, 85.95],\n",
       " ['Carol', 75, 53.65],\n",
       " ['Sam', 90, 95.37],\n",
       " ['Doug', 61, 19.8],\n",
       " ['Sam', 41, 45.22],\n",
       " ['Doug', 29, 42.98],\n",
       " ['Oliver', 61, 95.74],\n",
       " ['Carol', 32, 17.12],\n",
       " ['Tari', 27, 68.83],\n",
       " ['Tari', 81, 62.47]]"
      ]
     },
     "execution_count": 73,
     "metadata": {},
     "output_type": "execute_result"
    }
   ],
   "source": [
    "table1"
   ]
  },
  {
   "cell_type": "code",
   "execution_count": 74,
   "metadata": {},
   "outputs": [
    {
     "data": {
      "text/plain": [
       "['Carol', 75, 53.65]"
      ]
     },
     "execution_count": 74,
     "metadata": {},
     "output_type": "execute_result"
    }
   ],
   "source": [
    "table1[1]"
   ]
  },
  {
   "cell_type": "code",
   "execution_count": 75,
   "metadata": {},
   "outputs": [
    {
     "name": "stdout",
     "output_type": "stream",
     "text": [
      "0 ['Sam', 36, 85.95]\n",
      "1 ['Carol', 75, 53.65]\n",
      "2 ['Sam', 90, 95.37]\n",
      "3 ['Doug', 61, 19.8]\n",
      "4 ['Sam', 41, 45.22]\n",
      "5 ['Doug', 29, 42.98]\n",
      "6 ['Oliver', 61, 95.74]\n",
      "7 ['Carol', 32, 17.12]\n",
      "8 ['Tari', 27, 68.83]\n",
      "9 ['Tari', 81, 62.47]\n"
     ]
    }
   ],
   "source": [
    "for ix, row in enumerate(table1):\n",
    "    print(ix, row)"
   ]
  },
  {
   "cell_type": "markdown",
   "metadata": {},
   "source": [
    "## List Comprehensions\n",
    "\n",
    "List Comprehensions, mevcut listelere dayalı listeler tanımlamanın ve oluşturmanın oldukça etkili bir yoludur. Liste oluşturmak için normal fonksiyonlardan ve döngülerden genellikle daha **kompakt** ve daha **hızlıdır**. Ancak, kodun kullanıcı dostu olmasını sağlamak için çok uzun List Compherensions'ları tek bir satıra yazmaktan kaçınmalıyız."
   ]
  },
  {
   "cell_type": "code",
   "execution_count": 76,
   "metadata": {},
   "outputs": [
    {
     "name": "stdout",
     "output_type": "stream",
     "text": [
      "[4, 5, 6, 8]\n"
     ]
    }
   ],
   "source": [
    "a_list_of_numbers = [1,2,3,4,5,7]\n",
    "\n",
    "new_list = []\n",
    "for number in a_list_of_numbers:\n",
    "    if number > 2:\n",
    "        new_list.append(number + 1)\n",
    "        \n",
    "print(new_list)"
   ]
  },
  {
   "cell_type": "code",
   "execution_count": 77,
   "metadata": {},
   "outputs": [
    {
     "name": "stdout",
     "output_type": "stream",
     "text": [
      "[4, 5, 6, 8]\n"
     ]
    }
   ],
   "source": [
    "new_list_of_numbers = [number + 1 for number in a_list_of_numbers if number > 2]\n",
    "print(new_list_of_numbers)"
   ]
  },
  {
   "cell_type": "markdown",
   "metadata": {
    "slideshow": {
     "slide_type": "slide"
    }
   },
   "source": [
    "## Lambda Fonksiyonu ve Sıralama İşlemleri\n",
    "\n",
    "Python'da sıralama işlemleri yapabilmek için elimizde 2 farklı yolumuz vardır. Şimdi bunları aşağıdaki örneklerle görelim ve aralarındaki farkı anlamaya çalışalım."
   ]
  },
  {
   "cell_type": "code",
   "execution_count": 78,
   "metadata": {
    "slideshow": {
     "slide_type": "slide"
    }
   },
   "outputs": [
    {
     "name": "stdout",
     "output_type": "stream",
     "text": [
      "[['alice', 29, 115000], ['bob', 32, 72000], ['charlie', 25, 95000]]\n"
     ]
    }
   ],
   "source": [
    "# Sütunlar = (İsim, Yaş, Maaş)\n",
    "alumni = [['bob',32,72000],\n",
    "          ['alice',29,115000],\n",
    "          ['charlie',25,95000]]\n",
    "\n",
    "print(sorted(alumni)) # Sıralama işlemleri için kullanılan fonksiyon"
   ]
  },
  {
   "cell_type": "code",
   "execution_count": 79,
   "metadata": {},
   "outputs": [
    {
     "name": "stdout",
     "output_type": "stream",
     "text": [
      "[['bob', 32, 72000], ['alice', 29, 115000], ['charlie', 25, 95000]]\n"
     ]
    }
   ],
   "source": [
    "print(alumni)"
   ]
  },
  {
   "cell_type": "markdown",
   "metadata": {},
   "source": [
    "Sorun ne? Aslında `sorted` fonksiyonunu çalıştırdığımızda istediğimiz sonucu vermişti? Ama orijinal verimizi değiştirmemiş... \n",
    "\n",
    "Bir de bu yazım şekliyle deneyelim."
   ]
  },
  {
   "cell_type": "code",
   "execution_count": 85,
   "metadata": {
    "slideshow": {
     "slide_type": "slide"
    }
   },
   "outputs": [],
   "source": [
    "alumni.sort(reverse=True) # sort fonksiyonu sıralamayı orijinal veri üzerinde gerçekleştirdi"
   ]
  },
  {
   "cell_type": "code",
   "execution_count": 82,
   "metadata": {},
   "outputs": [
    {
     "name": "stdout",
     "output_type": "stream",
     "text": [
      "[['alice', 29, 115000], ['bob', 32, 72000], ['charlie', 25, 95000]]\n"
     ]
    }
   ],
   "source": [
    "print(alumni)"
   ]
  },
  {
   "cell_type": "markdown",
   "metadata": {},
   "source": [
    "Şimdi oldu! Çünkü `sorted(alumni)` fonksiyonunu çalıştırdığımda verinin orijinal halini değiştirmek yerine, aslında bana değerlerimizin sıralı halini yeni bir liste olarak tanımlamış oldu. \n",
    "\n",
    "Genellikle `sorted` fonksiyonunu kullanmak `.sort` fonksiyonuna nazaran daha güvenli bir işlemdir, çünkü yanlışlıkla `.sort` fonksiyonunu kullanırsanız, orijinal verinizi komple değiştirmiş olursunuz.\n",
    "\n",
    "Ama sıralama işlemlerimizi şu ana kadar hep ilk sütundaki (isim) **alfabetik sıraya göre** yaptık. Şimdi de değerleri biraz tersten sıralamayı biraz da maaş sütununa göre sıralamayı inceleyelim."
   ]
  },
  {
   "cell_type": "code",
   "execution_count": 83,
   "metadata": {
    "slideshow": {
     "slide_type": "slide"
    }
   },
   "outputs": [
    {
     "name": "stdout",
     "output_type": "stream",
     "text": [
      "[['charlie', 25, 95000], ['bob', 32, 72000], ['alice', 29, 115000]]\n"
     ]
    }
   ],
   "source": [
    "print(sorted(alumni, reverse=True))"
   ]
  },
  {
   "cell_type": "code",
   "execution_count": 86,
   "metadata": {},
   "outputs": [
    {
     "name": "stdout",
     "output_type": "stream",
     "text": [
      "[['charlie', 25, 95000], ['bob', 32, 72000], ['alice', 29, 115000]]\n"
     ]
    }
   ],
   "source": [
    "print(alumni)"
   ]
  },
  {
   "cell_type": "markdown",
   "metadata": {},
   "source": [
    "İlk sütun dışında bir değere göre sıralama yapmak için Python'a nasıl sıralanacağını söylememiz gerekir. Bu iş, bir `lambda` fonksiyonu için harika bir kullanımdır. Lambda fonksiyonları, **kaydetmek istemediğimiz** fonksiyon tanımlamalarıdır. İşlevlerini sadece bir satırda tamamlamalarını ve sonra hafıza alanını çalmamalarını isteriz."
   ]
  },
  {
   "cell_type": "code",
   "execution_count": 87,
   "metadata": {},
   "outputs": [
    {
     "data": {
      "text/plain": [
       "6"
      ]
     },
     "execution_count": 87,
     "metadata": {},
     "output_type": "execute_result"
    }
   ],
   "source": [
    "# Sayının 2 ile çarpımını hesaplayan lambda fonksiyonu\n",
    "multiplication = lambda x: x * 2\n",
    "\n",
    "multiplication(3)"
   ]
  },
  {
   "cell_type": "code",
   "execution_count": 90,
   "metadata": {},
   "outputs": [
    {
     "data": {
      "text/plain": [
       "[['alice', 29, 115000], ['charlie', 25, 95000], ['bob', 32, 72000]]"
      ]
     },
     "execution_count": 90,
     "metadata": {},
     "output_type": "execute_result"
    }
   ],
   "source": [
    "alumni.sort(key=lambda row: row[2], reverse=True)\n",
    "alumni"
   ]
  },
  {
   "cell_type": "markdown",
   "metadata": {},
   "source": [
    "`sorted` fonksiyonu için `key` parametresi, her bir verinin hangi parçasına göre sıralamak istediğimizi tanımlayan bir fonksiyon alır. Burada ikinci indexteki (maaş) bilgilerine göre sıralama yapmasını söyledik. İşlevin kendisi çok ilginç değil, bu çizginin ötesinde yaşamasını istemiyoruz.\n",
    "\n",
    "Bu ifadeyi sonrasında tekrardan kullanabilmek için bir fonksiyon yapısına dönüştürecek olursak ise..."
   ]
  },
  {
   "cell_type": "code",
   "execution_count": 91,
   "metadata": {},
   "outputs": [
    {
     "name": "stdout",
     "output_type": "stream",
     "text": [
      "[['alice', 29, 115000], ['charlie', 25, 95000], ['bob', 32, 72000]]\n"
     ]
    }
   ],
   "source": [
    "def get_second_column_of_row(row):\n",
    "    \"\"\"\n",
    "    Satırda bulunan 2. indexe ait değerleri döndürür.\n",
    "    \"\"\"\n",
    "    return row[2]\n",
    "\n",
    "print(sorted(alumni, key=get_second_column_of_row, reverse=True))"
   ]
  },
  {
   "cell_type": "markdown",
   "metadata": {},
   "source": [
    "Ama gerçekçi olmak gerekirse, bu fonksiyonu isim alanıma kaydetmek istemiyorum, bir daha da asla istemeyeceğim. Bunun yerine, tüm kodumu tek kullanımlık fonksiyonlarla kirletmeden davranışı tanımlamak için `lambda` fonksiyonu kullanıyoruz. Lambda fonksiyonu, özellikle `map` veya `filter` fonksiyonlarını kullanmak gibi işler yaparken, python dilinin ortak bir parçasıdır. Ama bunlar şimdilik başka bir zamanın tartışma konusu."
   ]
  },
  {
   "cell_type": "markdown",
   "metadata": {},
   "source": [
    "## Try-Except\n",
    "\n",
    "`try-except`, hatalara anında tepki verebilen kod oluşturmanın harika bir yoludur. Yapmamız gereken, `try` ifadesinin içine çalışmasını istediğimiz kod bloğu koymak, ardından `except` ifadesine de `try` kısmında yazdığımız kodda bir hata meydana geldiğinde de \"nasıl bir davranış izlemesini istediğimizi belirtiriz\"."
   ]
  },
  {
   "cell_type": "code",
   "execution_count": 93,
   "metadata": {},
   "outputs": [
    {
     "data": {
      "text/plain": [
       "0.5"
      ]
     },
     "execution_count": 93,
     "metadata": {},
     "output_type": "execute_result"
    }
   ],
   "source": [
    "x = \"1\"\n",
    "\n",
    "int(x)/2"
   ]
  },
  {
   "cell_type": "code",
   "execution_count": 94,
   "metadata": {},
   "outputs": [
    {
     "name": "stdout",
     "output_type": "stream",
     "text": [
      "Trying to divide\n",
      "\n",
      "Oops, forgot to make it a number\n",
      "0.5\n"
     ]
    }
   ],
   "source": [
    "x = \"1\" # 1 sayısının string versiyonu, bununla matematiksel işlemler gerçekleştirilemez\n",
    "\n",
    "try:\n",
    "    print(\"Trying to divide\")\n",
    "    print(x/2)\n",
    "    print(\"This won't happen because of the error\")\n",
    "    \n",
    "except:\n",
    "    print(\"\\nOops, forgot to make it a number\")\n",
    "    print(int(x)/2)"
   ]
  },
  {
   "cell_type": "code",
   "execution_count": 96,
   "metadata": {},
   "outputs": [
    {
     "name": "stdout",
     "output_type": "stream",
     "text": [
      "¯\\_(ツ)_/¯\n"
     ]
    }
   ],
   "source": [
    "del x # del fonksiyonu tanımladığımız değişkeni tamamen silmemizi sağlar\n",
    "\n",
    "try:\n",
    "    str(x)\n",
    "except:\n",
    "    print(\"¯\\_(ツ)_/¯\")"
   ]
  },
  {
   "cell_type": "markdown",
   "metadata": {
    "slideshow": {
     "slide_type": "slide"
    }
   },
   "source": [
    "## Referans Değerler vs Gerçek Değerler"
   ]
  },
  {
   "cell_type": "code",
   "execution_count": 98,
   "metadata": {
    "slideshow": {
     "slide_type": "slide"
    }
   },
   "outputs": [
    {
     "name": "stdout",
     "output_type": "stream",
     "text": [
      "[1, 2, 3, 4]\n",
      "[1, 2, 3, 4]\n"
     ]
    }
   ],
   "source": [
    "a = [1,2,3]\n",
    "b = a\n",
    "b.append(4)\n",
    "\n",
    "# Aslında sadece b listesine bir ekleme yapmamıza rağmen, neden a listesine de aynı eklemeyi yaptı?\n",
    "print(a)\n",
    "print(b)"
   ]
  },
  {
   "cell_type": "markdown",
   "metadata": {
    "slideshow": {
     "slide_type": "slide"
    }
   },
   "source": [
    "`b = a` yazımı bizim için `b` adını verdiğimiz yeni bir değişken tanımlamaz. Sadece `b` değişkenimizi `a` değişkenine bağlı yeni bir değişken olarak oluşturur.\n",
    "\n",
    "Eğer yeni bir değişken oluşturmak istersek, `a` değişkenindeki değerleri kullanarak yeni bir veri yapısı tanımlamamız gerekir (Python'a `a` değişkenindeki değerleri kullanarak bir liste veri tipine yazarak oluşturulan bu listeyi `b` değişkenine eşitle gibi)."
   ]
  },
  {
   "cell_type": "code",
   "execution_count": 99,
   "metadata": {
    "slideshow": {
     "slide_type": "slide"
    }
   },
   "outputs": [
    {
     "name": "stdout",
     "output_type": "stream",
     "text": [
      "[1, 2, 3]\n",
      "[1, 2, 3, 4]\n"
     ]
    }
   ],
   "source": [
    "a = [1,2,3]\n",
    "b = a.copy()\n",
    "b.append(4)\n",
    "\n",
    "print(a)\n",
    "print(b)"
   ]
  },
  {
   "cell_type": "markdown",
   "metadata": {},
   "source": [
    "# Özet\n",
    "\n",
    "Python'da kodlama yaparken yalnızca en yaygın yazım standartlarının bazılarına değindik. Eğer incelemek isterseniz, standartların burada bulunabilecek daha bir çok bölümü var:\n",
    "\n",
    "[PEP8 Guide](https://www.python.org/dev/peps/pep-0008/)\n",
    "\n",
    "> **HATIRLATMA:** Gelecekte kendinin ve ekip arkadaşlarının size teşekkür etmeleri için kodlarınızı kolay okunabilir ve anlaşılabilir bir şekilde yazmayı unutmayın :)"
   ]
  },
  {
   "cell_type": "code",
   "execution_count": null,
   "metadata": {},
   "outputs": [],
   "source": []
  }
 ],
 "metadata": {
  "kernelspec": {
   "display_name": "Python 3 (ipykernel)",
   "language": "python",
   "name": "python3"
  },
  "language_info": {
   "codemirror_mode": {
    "name": "ipython",
    "version": 3
   },
   "file_extension": ".py",
   "mimetype": "text/x-python",
   "name": "python",
   "nbconvert_exporter": "python",
   "pygments_lexer": "ipython3",
   "version": "3.9.12"
  },
  "vscode": {
   "interpreter": {
    "hash": "35fed63349aaa71549b38d578a8052428b78d7c5e5dead48be5ac9be91c4ad80"
   }
  }
 },
 "nbformat": 4,
 "nbformat_minor": 1
}
